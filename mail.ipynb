{
 "cells": [
  {
   "cell_type": "code",
   "execution_count": 14,
   "id": "9c0b1dcf",
   "metadata": {},
   "outputs": [],
   "source": [
    "import pandas as pd\n",
    "from PyPDF2 import PdfReader, PdfWriter\n",
    "import smtplib\n",
    "from email.message import EmailMessage\n",
    "import os"
   ]
  },
  {
   "cell_type": "code",
   "execution_count": null,
   "id": "c5c1aa41",
   "metadata": {},
   "outputs": [],
   "source": [
    "# Load participant data\n",
    "df = pd.read_csv('data.csv', delimiter=\";\")  # Assumes a column 'email'\n",
    "\n",
    "# Read the PDF\n",
    "reader = PdfReader('test.pdf')\n",
    "\n",
    "# SMTP setup\n",
    "SMTP_SERVER = 'mail.ai4science.si'  # Replace with your SMTP server\n",
    "SMTP_PORT = 465                      # Or 465 for SSL\n",
    "EMAIL = 'team@ai4science.si'\n",
    "PASSWORD = '4wVSnD_Gxzc5Zw4'           # Use app password if needed\n",
    "\n",
    "\n",
    "message = \"\"\"Dear participants,\n",
    "\n",
    "Please find your AI4Science certificate of attendance.\n",
    "\n",
    "Best regards,\n",
    "AI4Science team\n",
    "\"\"\""
   ]
  },
  {
   "cell_type": "code",
   "execution_count": 31,
   "id": "da2369e2",
   "metadata": {},
   "outputs": [
    {
     "name": "stdout",
     "output_type": "stream",
     "text": [
      "Batch 1 sent. Waiting for next batch...\n",
      "Batch 2 sent. Waiting for next batch...\n",
      "Batch 3 sent. Waiting for next batch...\n",
      "All emails sent!\n"
     ]
    }
   ],
   "source": [
    "import time\n",
    "\n",
    "BATCH_SIZE = 30\n",
    "SLEEP_SECONDS = 3600  # 1 hour\n",
    "\n",
    "BATCH_SIZE = 3\n",
    "SLEEP_SECONDS = 60  # 1 hour\n",
    "\n",
    "with smtplib.SMTP_SSL(SMTP_SERVER, SMTP_PORT) as server:\n",
    "    server.login(EMAIL, PASSWORD)\n",
    "\n",
    "    for batch_start in range(0, len(df), BATCH_SIZE):\n",
    "        batch = df.iloc[batch_start:batch_start + BATCH_SIZE]\n",
    "        for idx, row in batch.iterrows():\n",
    "            email = row['mail']\n",
    "            name = row.get('Name', '')\n",
    "\n",
    "            # Extract the corresponding PDF page\n",
    "            writer = PdfWriter()\n",
    "            writer.add_page(reader.pages[idx])\n",
    "            pdf_filename = f'Certificate_of_attendance_AI4Science_{name}.pdf'\n",
    "            with open(pdf_filename, 'wb') as f:\n",
    "                writer.write(f)\n",
    "\n",
    "            # Compose email\n",
    "            msg = EmailMessage()\n",
    "            msg['Subject'] = \"Your Personalized Document\"\n",
    "            msg['From'] = EMAIL\n",
    "            msg['To'] = email\n",
    "            msg.set_content(message)\n",
    "\n",
    "            # Attach PDF\n",
    "            with open(pdf_filename, 'rb') as f:\n",
    "                msg.add_attachment(f.read(), maintype='application', subtype='pdf', filename=pdf_filename)\n",
    "\n",
    "            # Send email\n",
    "            server.send_message(msg)\n",
    "\n",
    "            # Clean up\n",
    "            os.remove(pdf_filename)\n",
    "\n",
    "        print(f\"Batch {batch_start // BATCH_SIZE + 1} sent. Waiting for next batch...\")\n",
    "        if batch_start + BATCH_SIZE < len(df):\n",
    "            time.sleep(SLEEP_SECONDS)\n",
    "\n",
    "print(\"All emails sent!\")"
   ]
  },
  {
   "cell_type": "code",
   "execution_count": null,
   "id": "f6cce0ee",
   "metadata": {},
   "outputs": [],
   "source": []
  }
 ],
 "metadata": {
  "kernelspec": {
   "display_name": ".python-global",
   "language": "python",
   "name": "python3"
  },
  "language_info": {
   "codemirror_mode": {
    "name": "ipython",
    "version": 3
   },
   "file_extension": ".py",
   "mimetype": "text/x-python",
   "name": "python",
   "nbconvert_exporter": "python",
   "pygments_lexer": "ipython3",
   "version": "3.12.3"
  }
 },
 "nbformat": 4,
 "nbformat_minor": 5
}
